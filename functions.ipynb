{
 "cells": [
  {
   "cell_type": "markdown",
   "metadata": {
    "slideshow": {
     "slide_type": "skip"
    },
    "toc": "true"
   },
   "source": [
    "# Table of Contents\n",
    " <p><div class=\"lev1\"><a href=\"#Functions\"><span class=\"toc-item-num\">1&nbsp;&nbsp;</span>Functions</a></div><div class=\"lev1\"><a href=\"#What's-a-function?\"><span class=\"toc-item-num\">2&nbsp;&nbsp;</span>What's a function?</a></div><div class=\"lev2\"><a href=\"#What's-the-function-of-a-function?\"><span class=\"toc-item-num\">2.1&nbsp;&nbsp;</span>What's the function of a function?</a></div><div class=\"lev2\"><a href=\"#No.\"><span class=\"toc-item-num\">2.2&nbsp;&nbsp;</span>No.</a></div><div class=\"lev1\"><a href=\"#Parameters\"><span class=\"toc-item-num\">3&nbsp;&nbsp;</span>Parameters</a></div><div class=\"lev2\"><a href=\"#Parameters-are-like-those-significant-others-...\"><span class=\"toc-item-num\">3.1&nbsp;&nbsp;</span>Parameters are like those significant others ...</a></div><div class=\"lev2\"><a href=\"#Optional-Parameters\"><span class=\"toc-item-num\">3.2&nbsp;&nbsp;</span>Optional Parameters</a></div><div class=\"lev1\"><a href=\"#Quiz\"><span class=\"toc-item-num\">4&nbsp;&nbsp;</span>Quiz</a></div><div class=\"lev1\"><a href=\"#Return\"><span class=\"toc-item-num\">5&nbsp;&nbsp;</span>Return</a></div><div class=\"lev2\"><a href=\"#A-slightly-more-complicated-example\"><span class=\"toc-item-num\">5.1&nbsp;&nbsp;</span>A slightly more complicated example</a></div><div class=\"lev1\"><a href=\"#Quiz\"><span class=\"toc-item-num\">6&nbsp;&nbsp;</span>Quiz</a></div><div class=\"lev1\"><a href=\"#Scope\"><span class=\"toc-item-num\">7&nbsp;&nbsp;</span>Scope</a></div><div class=\"lev2\"><a href=\"#Local-variables-cannot-be-used-in-the-global-scope\"><span class=\"toc-item-num\">7.1&nbsp;&nbsp;</span>Local variables cannot be used in the global scope</a></div><div class=\"lev2\"><a href=\"#Local-variables-cannot-be-used-in-other-local-scopes\"><span class=\"toc-item-num\">7.2&nbsp;&nbsp;</span>Local variables cannot be used in other local scopes</a></div><div class=\"lev2\"><a href=\"#Global-variables-can-be-read-from-a-local-scope\"><span class=\"toc-item-num\">7.3&nbsp;&nbsp;</span>Global variables can be read from a local scope</a></div><div class=\"lev2\"><a href=\"#Global-variables-cannot-be-modified-from-a-local-scope\"><span class=\"toc-item-num\">7.4&nbsp;&nbsp;</span>Global variables cannot be modified from a local scope</a></div><div class=\"lev1\"><a href=\"#Quiz\"><span class=\"toc-item-num\">8&nbsp;&nbsp;</span>Quiz</a></div><div class=\"lev1\"><a href=\"#A-larger-example\"><span class=\"toc-item-num\">9&nbsp;&nbsp;</span>A larger example</a></div><div class=\"lev2\"><a href=\"#That-function-works.\"><span class=\"toc-item-num\">9.1&nbsp;&nbsp;</span>That function works.</a></div><div class=\"lev1\"><a href=\"#Our-line-count-is-the-same...\"><span class=\"toc-item-num\">10&nbsp;&nbsp;</span>Our line count is the same...</a></div><div class=\"lev1\"><a href=\"#What-does-this-code-do?\"><span class=\"toc-item-num\">11&nbsp;&nbsp;</span>What does this code do?</a></div>"
   ]
  },
  {
   "cell_type": "markdown",
   "metadata": {
    "slideshow": {
     "slide_type": "slide"
    }
   },
   "source": [
    "# Functions"
   ]
  },
  {
   "cell_type": "markdown",
   "metadata": {
    "slideshow": {
     "slide_type": "fragment"
    }
   },
   "source": [
    "<img  src=\"math_function.jpg\"/>"
   ]
  },
  {
   "cell_type": "markdown",
   "metadata": {
    "slideshow": {
     "slide_type": "slide"
    }
   },
   "source": [
    "# What's a function?"
   ]
  },
  {
   "cell_type": "markdown",
   "metadata": {
    "slideshow": {
     "slide_type": "fragment"
    }
   },
   "source": [
    "At this point, we've all seen functions, and probably written a few of our own. \n",
    "\n",
    "Let's start at the beginning though."
   ]
  },
  {
   "cell_type": "code",
   "execution_count": 3,
   "metadata": {
    "collapsed": false,
    "slideshow": {
     "slide_type": "fragment"
    }
   },
   "outputs": [
    {
     "name": "stdout",
     "output_type": "stream",
     "text": [
      "Hello World!\n"
     ]
    }
   ],
   "source": [
    "print('Hello World!')"
   ]
  },
  {
   "cell_type": "markdown",
   "metadata": {
    "slideshow": {
     "slide_type": "fragment"
    }
   },
   "source": [
    "Okay, maybe that was too far back. Let's turn that line into a user-defined function."
   ]
  },
  {
   "cell_type": "code",
   "execution_count": 5,
   "metadata": {
    "collapsed": false,
    "slideshow": {
     "slide_type": "slide"
    }
   },
   "outputs": [
    {
     "name": "stdout",
     "output_type": "stream",
     "text": [
      "Hello World!\n"
     ]
    }
   ],
   "source": [
    "def say_hello():\n",
    "    print('Hello World!')\n",
    "\n",
    "say_hello()"
   ]
  },
  {
   "cell_type": "markdown",
   "metadata": {
    "slideshow": {
     "slide_type": "fragment"
    }
   },
   "source": [
    "Here we've created a function name `say_hello`, and then **called** it on the third line."
   ]
  },
  {
   "cell_type": "markdown",
   "metadata": {
    "slideshow": {
     "slide_type": "fragment"
    }
   },
   "source": [
    "But it does the same things as before. What's the point? All we've done here is increase the complexity of our code for no reward."
   ]
  },
  {
   "cell_type": "markdown",
   "metadata": {
    "slideshow": {
     "slide_type": "slide"
    }
   },
   "source": [
    "## What's the function of a function?"
   ]
  },
  {
   "cell_type": "markdown",
   "metadata": {
    "slideshow": {
     "slide_type": "fragment"
    }
   },
   "source": [
    "Have any of you wondered what the `print()` function does? \n",
    "\n",
    "* How does it work? \n",
    "* Where is it defined?"
   ]
  },
  {
   "cell_type": "markdown",
   "metadata": {
    "slideshow": {
     "slide_type": "fragment"
    }
   },
   "source": [
    "Since python is open source, we can take a little [field-trip](https://github.com/python/cpython/tree/master/Python)."
   ]
  },
  {
   "cell_type": "markdown",
   "metadata": {
    "slideshow": {
     "slide_type": "fragment"
    }
   },
   "source": [
    "Pretty cool right?! You're now free to stare into the abyss of Python built-in functions. "
   ]
  },
  {
   "cell_type": "markdown",
   "metadata": {
    "slideshow": {
     "slide_type": "fragment"
    }
   },
   "source": [
    "But do you actually care?"
   ]
  },
  {
   "cell_type": "markdown",
   "metadata": {
    "slideshow": {
     "slide_type": "slide"
    }
   },
   "source": [
    "## No."
   ]
  },
  {
   "cell_type": "markdown",
   "metadata": {
    "slideshow": {
     "slide_type": "fragment"
    }
   },
   "source": [
    "The python `print()` function would have to be filled with details about Raven to be less relevant to your life.\n",
    "\n",
    "<img  src=\"raven.png\"/>"
   ]
  },
  {
   "cell_type": "markdown",
   "metadata": {
    "slideshow": {
     "slide_type": "slide"
    }
   },
   "source": [
    "The power of functions is that the let you **execute code without caring about the details.**"
   ]
  },
  {
   "cell_type": "markdown",
   "metadata": {
    "slideshow": {
     "slide_type": "fragment"
    }
   },
   "source": [
    "This is particularly worth remembering since most of these examples are going to be really small, and it might seem more reasonable to write the code without the function."
   ]
  },
  {
   "cell_type": "markdown",
   "metadata": {
    "slideshow": {
     "slide_type": "fragment"
    }
   },
   "source": [
    "**Functions can:**\n",
    "\n",
    "1. Break a program up into logical sub-sections\n",
    "2. Keep the 'scope' of a variable confined to avoid naming confusion.\n",
    "3. Allow us to reuse code instead of rewriting it.\n",
    "\n",
    "We'll touch on each of these throughout the lecture."
   ]
  },
  {
   "cell_type": "markdown",
   "metadata": {
    "slideshow": {
     "slide_type": "slide"
    }
   },
   "source": [
    "# Parameters"
   ]
  },
  {
   "cell_type": "markdown",
   "metadata": {
    "slideshow": {
     "slide_type": "slide"
    }
   },
   "source": [
    "## Parameters are like those significant others ...\n",
    "\n",
    "**who adopt the personalities of the person they're currently dating.**"
   ]
  },
  {
   "cell_type": "code",
   "execution_count": 12,
   "metadata": {
    "collapsed": true,
    "slideshow": {
     "slide_type": "fragment"
    }
   },
   "outputs": [],
   "source": [
    "def anon(personality, hobby):\n",
    "    print('Hi! My name is Anon. We just started dating.')\n",
    "    print('I\\'m {} and like {}.'.format(personality, hobby))\n",
    "    print('')"
   ]
  },
  {
   "cell_type": "code",
   "execution_count": 13,
   "metadata": {
    "collapsed": false,
    "slideshow": {
     "slide_type": "fragment"
    }
   },
   "outputs": [
    {
     "name": "stdout",
     "output_type": "stream",
     "text": [
      "Hi! My name is Anon. We just started dating.\n",
      "I'm peppy and like mixed drinks.\n",
      "\n",
      "Hi! My name is Anon. We just started dating.\n",
      "I'm nerdy and like video games.\n",
      "\n",
      "Hi! My name is Anon. We just started dating.\n",
      "I'm serious and like fixing things.\n",
      "\n"
     ]
    }
   ],
   "source": [
    "anon('peppy', 'mixed drinks')\n",
    "anon('nerdy', 'video games')\n",
    "anon('serious', 'fixing things')"
   ]
  },
  {
   "cell_type": "markdown",
   "metadata": {
    "slideshow": {
     "slide_type": "fragment"
    }
   },
   "source": [
    "Anon's personality and hobby isn't defined by Anon. They're defined by some outside source..."
   ]
  },
  {
   "cell_type": "markdown",
   "metadata": {
    "slideshow": {
     "slide_type": "slide"
    }
   },
   "source": [
    "Here's a more practical example.\n",
    "\n",
    "The code below works fine:"
   ]
  },
  {
   "cell_type": "code",
   "execution_count": 13,
   "metadata": {
    "collapsed": false,
    "slideshow": {
     "slide_type": "fragment"
    }
   },
   "outputs": [
    {
     "name": "stdout",
     "output_type": "stream",
     "text": [
      "GC content: 61.90%\n"
     ]
    }
   ],
   "source": [
    "dna = 'CGATCGCTAGCCTGCACTCAG'\n",
    "gc = dna.count('C') + dna.count('G')\n",
    "content = 100 * gc / len(dna)\n",
    "print('GC content: {:.2f}%'.format(content))"
   ]
  },
  {
   "cell_type": "markdown",
   "metadata": {
    "slideshow": {
     "slide_type": "fragment"
    }
   },
   "source": [
    "But what if we multiple DNA sequences we wanted to check?"
   ]
  },
  {
   "cell_type": "code",
   "execution_count": 14,
   "metadata": {
    "collapsed": true,
    "slideshow": {
     "slide_type": "slide"
    }
   },
   "outputs": [],
   "source": [
    "def gc_content(dna):\n",
    "    gc = dna.count('C') + dna.count('G')\n",
    "    content = 100 * gc / len(dna)\n",
    "    print('GC content: {:.2f}%'.format(content))"
   ]
  },
  {
   "cell_type": "code",
   "execution_count": 16,
   "metadata": {
    "collapsed": false,
    "slideshow": {
     "slide_type": "fragment"
    }
   },
   "outputs": [
    {
     "name": "stdout",
     "output_type": "stream",
     "text": [
      "GC content: 72.73%\n",
      "GC content: 30.77%\n",
      "GC content: 53.12%\n"
     ]
    }
   ],
   "source": [
    "gc_content('CATGCTCACTGACCCCCCCCCC')\n",
    "gc_content('ATTAATATTATAATTAATCCCCCCCC')\n",
    "gc_content('ATGCATGCATGCATGCCGTCATGCATGCATCC')"
   ]
  },
  {
   "cell_type": "markdown",
   "metadata": {
    "slideshow": {
     "slide_type": "fragment"
    }
   },
   "source": [
    "Each of these sequences are passed into the function as an **argument**. "
   ]
  },
  {
   "cell_type": "markdown",
   "metadata": {
    "slideshow": {
     "slide_type": "slide"
    }
   },
   "source": [
    "## Optional Parameters"
   ]
  },
  {
   "cell_type": "markdown",
   "metadata": {
    "slideshow": {
     "slide_type": "fragment"
    }
   },
   "source": [
    "If you want, you can give your parameters default values. This can be another way function help create reuseable code.\n",
    "\n",
    "Here's a simple scenario:"
   ]
  },
  {
   "cell_type": "markdown",
   "metadata": {
    "slideshow": {
     "slide_type": "slide"
    }
   },
   "source": [
    "Imagine that you have two lab instruments."
   ]
  },
  {
   "cell_type": "markdown",
   "metadata": {
    "slideshow": {
     "slide_type": "fragment"
    }
   },
   "source": [
    "You use the first Monday - Thursday. \n",
    "\n",
    "It requires a GC content to be input as a percent."
   ]
  },
  {
   "cell_type": "markdown",
   "metadata": {
    "slideshow": {
     "slide_type": "fragment"
    }
   },
   "source": [
    "You use the second only on Friday. \n",
    "\n",
    "It requires GC content as a ratio to five decimal places."
   ]
  },
  {
   "cell_type": "code",
   "execution_count": 26,
   "metadata": {
    "collapsed": true,
    "slideshow": {
     "slide_type": "slide"
    }
   },
   "outputs": [],
   "source": [
    "def gc_content(dna, percent=True):\n",
    "    gc = dna.count('C') + dna.count('G')\n",
    "    content = gc / len(dna)\n",
    "    if percent:\n",
    "        content *= 100\n",
    "        print('GC content: {:.2f}%'.format(content))\n",
    "    else:\n",
    "        print('GC content: {:.5f}'.format(content))"
   ]
  },
  {
   "cell_type": "code",
   "execution_count": 28,
   "metadata": {
    "collapsed": false,
    "slideshow": {
     "slide_type": "fragment"
    }
   },
   "outputs": [
    {
     "name": "stdout",
     "output_type": "stream",
     "text": [
      "GC content: 36.36%\n",
      "GC content: 0.36364\n"
     ]
    }
   ],
   "source": [
    "gc_content('ATATCCCGATGCATGCATTAAT')\n",
    "gc_content('ATATCCCGATGCATGCATTAAT', False)"
   ]
  },
  {
   "cell_type": "markdown",
   "metadata": {
    "slideshow": {
     "slide_type": "fragment"
    }
   },
   "source": [
    "The first four days of the week, you don't need the optional parameter, since it's set correctly."
   ]
  },
  {
   "cell_type": "markdown",
   "metadata": {
    "slideshow": {
     "slide_type": "slide"
    }
   },
   "source": [
    "# Quiz"
   ]
  },
  {
   "cell_type": "markdown",
   "metadata": {
    "slideshow": {
     "slide_type": "subslide"
    }
   },
   "source": [
    "What do the following snippets execute?"
   ]
  },
  {
   "cell_type": "code",
   "execution_count": 14,
   "metadata": {
    "collapsed": false,
    "slideshow": {
     "slide_type": "subslide"
    }
   },
   "outputs": [
    {
     "name": "stdout",
     "output_type": "stream",
     "text": [
      "1\n"
     ]
    }
   ],
   "source": [
    "seq = 'AWSDFGTHKLPARTGHLKAI'\n",
    "\n",
    "def count_alanine(protein):\n",
    "    print(protein.count('A'))\n",
    "    \n",
    "seq = 'PLLIMNHYYTGFRDCSSA'\n",
    "count_alanine(seq)"
   ]
  },
  {
   "cell_type": "markdown",
   "metadata": {
    "slideshow": {
     "slide_type": "subslide"
    }
   },
   "source": [
    "* Error\n",
    "* 3\n",
    "* 1\n",
    "* 1 followed by an Error"
   ]
  },
  {
   "cell_type": "code",
   "execution_count": 30,
   "metadata": {
    "collapsed": false,
    "slideshow": {
     "slide_type": "subslide"
    }
   },
   "outputs": [
    {
     "name": "stdout",
     "output_type": "stream",
     "text": [
      "3\n",
      "2\n"
     ]
    }
   ],
   "source": [
    "def count_amino_acid(protein, aa='A'):\n",
    "    print(protein.count(aa))\n",
    "\n",
    "protein = 'AWSDFGTHKLPARTGHLKAI'\n",
    "count_amino_acid(protein)\n",
    "count_amino_acid('PLLIMNHYYTGFRDCSSA', 'L')"
   ]
  },
  {
   "cell_type": "markdown",
   "metadata": {
    "slideshow": {
     "slide_type": "subslide"
    }
   },
   "source": [
    "* 3 2\n",
    "* Error\n",
    "* 2 2\n",
    "* 3 1"
   ]
  },
  {
   "cell_type": "markdown",
   "metadata": {
    "slideshow": {
     "slide_type": "slide"
    }
   },
   "source": [
    "# Return"
   ]
  },
  {
   "cell_type": "markdown",
   "metadata": {
    "slideshow": {
     "slide_type": "slide"
    }
   },
   "source": [
    "Sometimes, you want to get information out of a function."
   ]
  },
  {
   "cell_type": "markdown",
   "metadata": {
    "slideshow": {
     "slide_type": "fragment"
    }
   },
   "source": [
    "Finding the length of a sequence is a common, built-in example of this."
   ]
  },
  {
   "cell_type": "code",
   "execution_count": 36,
   "metadata": {
    "collapsed": false,
    "slideshow": {
     "slide_type": "fragment"
    }
   },
   "outputs": [
    {
     "name": "stdout",
     "output_type": "stream",
     "text": [
      "26\n"
     ]
    }
   ],
   "source": [
    "length = len('this could be any sequence')\n",
    "print(length)"
   ]
  },
  {
   "cell_type": "markdown",
   "metadata": {
    "slideshow": {
     "slide_type": "slide"
    }
   },
   "source": [
    "We don't need to go on another excursion, but it's pretty simple to imagine what's going on behind the scenes here."
   ]
  },
  {
   "cell_type": "code",
   "execution_count": 37,
   "metadata": {
    "collapsed": false,
    "slideshow": {
     "slide_type": "fragment"
    }
   },
   "outputs": [
    {
     "name": "stdout",
     "output_type": "stream",
     "text": [
      "26\n"
     ]
    }
   ],
   "source": [
    "def my_len(sequence):\n",
    "    count = 0\n",
    "    for i in sequence:\n",
    "        count += 1\n",
    "    return count\n",
    "\n",
    "length = my_len('this could be any sequence')\n",
    "print(length)"
   ]
  },
  {
   "cell_type": "markdown",
   "metadata": {
    "slideshow": {
     "slide_type": "fragment"
    }
   },
   "source": [
    "The **return** keyword is what's used to send back a variable. Here we are returning `count` and assigning it to `length`."
   ]
  },
  {
   "cell_type": "markdown",
   "metadata": {
    "slideshow": {
     "slide_type": "slide"
    }
   },
   "source": [
    "## A slightly more complicated example"
   ]
  },
  {
   "cell_type": "code",
   "execution_count": 40,
   "metadata": {
    "collapsed": false,
    "slideshow": {
     "slide_type": "fragment"
    }
   },
   "outputs": [
    {
     "name": "stdout",
     "output_type": "stream",
     "text": [
      "['>Abhd11os-001|Abhd11os|594|', '>Airn-001|Airn|1113|', '>Crnde-001|Crnde|1238|', '>Csmd2os-001|Csmd2os|615|', '>Dancr-001|Dancr|575|']\n"
     ]
    }
   ],
   "source": [
    "fasta = \"\"\"\n",
    ">Abhd11os-001|Abhd11os|594|\n",
    "TCTGTCTTCTAGCCTCTACCAACTGACAAGTCTCAGTCA\n",
    ">Airn-001|Airn|1113|\n",
    "GCAAGAAGCACAGCACCGCCAGTTACCACGCAGACATCCTGGGGAACTGAGC\n",
    ">Crnde-001|Crnde|1238|\n",
    "ATGGAGACCAGAAGCGGTCGGCTGCTGAAGCGGGCGGCTGCGAGCT\n",
    ">Csmd2os-001|Csmd2os|615|\n",
    "ACAGGGCTCGAGAAAGGGATGGAAAGTGAGTT\n",
    ">Dancr-001|Dancr|575|\n",
    "TCTCCCGGATGGCTGTATTAACGCAGCGCGCAGCGGCTCGGTCTTTCGGTCCCGGCCTTGGTGG\n",
    "\"\"\".split()\n",
    "\n",
    "def get_fasta_data(fasta):\n",
    "    headers = []\n",
    "    seqs = []\n",
    "    for line in fasta:\n",
    "        if line[0] == '>':\n",
    "            headers.append(line)\n",
    "        else:\n",
    "            seqs.append(line)\n",
    "    return headers, seqs\n",
    "\n",
    "headers, seqs = get_fasta_data(fasta)\n",
    "print(headers)"
   ]
  },
  {
   "cell_type": "markdown",
   "metadata": {
    "slideshow": {
     "slide_type": "slide"
    }
   },
   "source": [
    "# Quiz"
   ]
  },
  {
   "cell_type": "markdown",
   "metadata": {
    "slideshow": {
     "slide_type": "subslide"
    }
   },
   "source": [
    "What do the following snippets execute?"
   ]
  },
  {
   "cell_type": "code",
   "execution_count": 8,
   "metadata": {
    "collapsed": false,
    "slideshow": {
     "slide_type": "subslide"
    }
   },
   "outputs": [
    {
     "name": "stdout",
     "output_type": "stream",
     "text": [
      "True\n"
     ]
    }
   ],
   "source": [
    "def expected_population_mean(pop_values, expected):\n",
    "    total = sum(pop_values)\n",
    "    mean = total/len(pop_values)\n",
    "    if mean == expected:\n",
    "        return True\n",
    "    else:\n",
    "        return False\n",
    "\n",
    "pop = [4, 5, 6, 7, 8]\n",
    "result = expected_population_mean(pop, 6)\n",
    "print(result)"
   ]
  },
  {
   "cell_type": "markdown",
   "metadata": {
    "slideshow": {
     "slide_type": "subslide"
    }
   },
   "source": [
    "* True\n",
    "* False\n",
    "* True and False\n",
    "* Error"
   ]
  },
  {
   "cell_type": "markdown",
   "metadata": {
    "slideshow": {
     "slide_type": "slide"
    }
   },
   "source": [
    "# Scope"
   ]
  },
  {
   "cell_type": "markdown",
   "metadata": {
    "slideshow": {
     "slide_type": "slide"
    }
   },
   "source": [
    "Think of a **scope** as a container for variables."
   ]
  },
  {
   "cell_type": "markdown",
   "metadata": {
    "slideshow": {
     "slide_type": "fragment"
    }
   },
   "source": [
    "* The variables do not exist outside of the scope.\n",
    "* If the scope is destroyed the variables are also destroyed."
   ]
  },
  {
   "cell_type": "markdown",
   "metadata": {
    "slideshow": {
     "slide_type": "fragment"
    }
   },
   "source": [
    "Scoping rules are dependent on the language. So the following rules may not be exactly the same in R."
   ]
  },
  {
   "cell_type": "markdown",
   "metadata": {
    "slideshow": {
     "slide_type": "slide"
    }
   },
   "source": [
    "## Local variables cannot be used in the global scope "
   ]
  },
  {
   "cell_type": "code",
   "execution_count": 54,
   "metadata": {
    "collapsed": false,
    "slideshow": {
     "slide_type": "fragment"
    }
   },
   "outputs": [
    {
     "ename": "NameError",
     "evalue": "name 'x_squared' is not defined",
     "output_type": "error",
     "traceback": [
      "\u001b[1;31m---------------------------------------------------------------------------\u001b[0m",
      "\u001b[1;31mNameError\u001b[0m                                 Traceback (most recent call last)",
      "\u001b[1;32m<ipython-input-54-41270b7d312c>\u001b[0m in \u001b[0;36m<module>\u001b[1;34m()\u001b[0m\n\u001b[0;32m      3\u001b[0m \u001b[1;33m\u001b[0m\u001b[0m\n\u001b[0;32m      4\u001b[0m \u001b[0msquare\u001b[0m\u001b[1;33m(\u001b[0m\u001b[1;36m5\u001b[0m\u001b[1;33m)\u001b[0m\u001b[1;33m\u001b[0m\u001b[0m\n\u001b[1;32m----> 5\u001b[1;33m \u001b[0mprint\u001b[0m\u001b[1;33m(\u001b[0m\u001b[0mx_squared\u001b[0m\u001b[1;33m)\u001b[0m\u001b[1;33m\u001b[0m\u001b[0m\n\u001b[0m",
      "\u001b[1;31mNameError\u001b[0m: name 'x_squared' is not defined"
     ]
    }
   ],
   "source": [
    "def square(x):\n",
    "    x_squared = x * x\n",
    "    \n",
    "square(5)\n",
    "print(x_squared)"
   ]
  },
  {
   "cell_type": "markdown",
   "metadata": {
    "slideshow": {
     "slide_type": "fragment"
    }
   },
   "source": [
    "`x_squared` is only defined in the context of `square()`."
   ]
  },
  {
   "cell_type": "markdown",
   "metadata": {
    "slideshow": {
     "slide_type": "slide"
    }
   },
   "source": [
    "## Local variables cannot be used in other local scopes"
   ]
  },
  {
   "cell_type": "code",
   "execution_count": 56,
   "metadata": {
    "collapsed": false,
    "slideshow": {
     "slide_type": "fragment"
    }
   },
   "outputs": [
    {
     "name": "stdout",
     "output_type": "stream",
     "text": [
      "0\n",
      "0\n",
      "0\n",
      "5.0\n"
     ]
    }
   ],
   "source": [
    "def square(x):\n",
    "    x_squared = x * x\n",
    "    return x_squared\n",
    "\n",
    "def pythagorean(a, b):\n",
    "    x_squared = 0\n",
    "    print(x_squared)\n",
    "    a_squared = square(a)\n",
    "    print(x_squared)\n",
    "    b_squared = square(b)\n",
    "    print(x_squared)\n",
    "    c = (a_squared + b_squared) ** .5\n",
    "    print(c)\n",
    "    \n",
    "pythagorean(3,4)"
   ]
  },
  {
   "cell_type": "markdown",
   "metadata": {
    "slideshow": {
     "slide_type": "fragment"
    }
   },
   "source": [
    "This may be tricky. Walk through each line to figure out which variable is printing."
   ]
  },
  {
   "cell_type": "markdown",
   "metadata": {
    "collapsed": true,
    "slideshow": {
     "slide_type": "slide"
    }
   },
   "source": [
    "## Global variables can be read from a local scope"
   ]
  },
  {
   "cell_type": "code",
   "execution_count": 3,
   "metadata": {
    "collapsed": false,
    "slideshow": {
     "slide_type": "fragment"
    }
   },
   "outputs": [
    {
     "name": "stdout",
     "output_type": "stream",
     "text": [
      "69\n",
      "7587.5\n"
     ]
    }
   ],
   "source": [
    "COPIES_PER_CELL = 23\n",
    "\n",
    "def total_copies(cell_number):\n",
    "    copies = cell_number*COPIES_PER_CELL\n",
    "    return copies\n",
    "\n",
    "def gene_level(drug_amount):\n",
    "    gene = (1/2)*drug_amount**2 + COPIES_PER_CELL\n",
    "    return gene\n",
    "\n",
    "print(total_copies(3))\n",
    "print(gene_level(123))"
   ]
  },
  {
   "cell_type": "markdown",
   "metadata": {
    "slideshow": {
     "slide_type": "fragment"
    }
   },
   "source": [
    "Use these sparingly, and generally as something similar to a physical constant."
   ]
  },
  {
   "cell_type": "markdown",
   "metadata": {
    "slideshow": {
     "slide_type": "slide"
    }
   },
   "source": [
    "## Global variables cannot be modified from a local scope"
   ]
  },
  {
   "cell_type": "code",
   "execution_count": 5,
   "metadata": {
    "collapsed": false,
    "slideshow": {
     "slide_type": "fragment"
    }
   },
   "outputs": [
    {
     "ename": "UnboundLocalError",
     "evalue": "local variable 'DAYS_IN_WEEK' referenced before assignment",
     "output_type": "error",
     "traceback": [
      "\u001b[1;31m---------------------------------------------------------------------------\u001b[0m",
      "\u001b[1;31mUnboundLocalError\u001b[0m                         Traceback (most recent call last)",
      "\u001b[1;32m<ipython-input-5-ef1831d1906a>\u001b[0m in \u001b[0;36m<module>\u001b[1;34m()\u001b[0m\n\u001b[0;32m      5\u001b[0m     \u001b[1;32mreturn\u001b[0m \u001b[0mDAYS_IN_WEEK\u001b[0m\u001b[1;33m\u001b[0m\u001b[0m\n\u001b[0;32m      6\u001b[0m \u001b[1;33m\u001b[0m\u001b[0m\n\u001b[1;32m----> 7\u001b[1;33m \u001b[0mprint\u001b[0m\u001b[1;33m(\u001b[0m\u001b[0mchange_days_in_week\u001b[0m\u001b[1;33m(\u001b[0m\u001b[1;36m1\u001b[0m\u001b[1;33m)\u001b[0m\u001b[1;33m)\u001b[0m\u001b[1;33m\u001b[0m\u001b[0m\n\u001b[0m",
      "\u001b[1;32m<ipython-input-5-ef1831d1906a>\u001b[0m in \u001b[0;36mchange_days_in_week\u001b[1;34m(delta)\u001b[0m\n\u001b[0;32m      2\u001b[0m \u001b[1;33m\u001b[0m\u001b[0m\n\u001b[0;32m      3\u001b[0m \u001b[1;32mdef\u001b[0m \u001b[0mchange_days_in_week\u001b[0m\u001b[1;33m(\u001b[0m\u001b[0mdelta\u001b[0m\u001b[1;33m)\u001b[0m\u001b[1;33m:\u001b[0m\u001b[1;33m\u001b[0m\u001b[0m\n\u001b[1;32m----> 4\u001b[1;33m     \u001b[0mDAYS_IN_WEEK\u001b[0m \u001b[1;33m+=\u001b[0m \u001b[0mdelta\u001b[0m\u001b[1;33m\u001b[0m\u001b[0m\n\u001b[0m\u001b[0;32m      5\u001b[0m     \u001b[1;32mreturn\u001b[0m \u001b[0mDAYS_IN_WEEK\u001b[0m\u001b[1;33m\u001b[0m\u001b[0m\n\u001b[0;32m      6\u001b[0m \u001b[1;33m\u001b[0m\u001b[0m\n",
      "\u001b[1;31mUnboundLocalError\u001b[0m: local variable 'DAYS_IN_WEEK' referenced before assignment"
     ]
    }
   ],
   "source": [
    "DAYS_IN_WEEK = 7\n",
    "\n",
    "def change_days_in_week(delta):\n",
    "    DAYS_IN_WEEK += delta\n",
    "    return DAYS_IN_WEEK\n",
    "\n",
    "print(change_days_in_week(1))"
   ]
  },
  {
   "cell_type": "markdown",
   "metadata": {
    "slideshow": {
     "slide_type": "fragment"
    }
   },
   "source": [
    "That's a lot of rules. Let's go over them."
   ]
  },
  {
   "cell_type": "markdown",
   "metadata": {
    "slideshow": {
     "slide_type": "slide"
    }
   },
   "source": [
    "# Quiz"
   ]
  },
  {
   "cell_type": "markdown",
   "metadata": {
    "collapsed": true,
    "slideshow": {
     "slide_type": "subslide"
    }
   },
   "source": [
    "What do the following snippets execute?"
   ]
  },
  {
   "cell_type": "code",
   "execution_count": 11,
   "metadata": {
    "collapsed": false,
    "slideshow": {
     "slide_type": "subslide"
    }
   },
   "outputs": [
    {
     "name": "stdout",
     "output_type": "stream",
     "text": [
      "TAGCT\n"
     ]
    }
   ],
   "source": [
    "# All *interal* function logic is correct.\n",
    "\n",
    "def reverse(string):\n",
    "    return string[::-1]\n",
    "\n",
    "def compliment(dna):\n",
    "    comp_dict = {'A':'T', 'T':'A', 'G':'C', 'C':'G'}\n",
    "    comp = ''.join(comp_dict[base] for base in dna)\n",
    "    return comp\n",
    "\n",
    "def reverse_compliment(dna):\n",
    "    dna = reverse(dna)\n",
    "    dna = compliment(dna)\n",
    "    return dna\n",
    "\n",
    "seq = 'AGCTA'\n",
    "print(reverse_compliment(seq))"
   ]
  },
  {
   "cell_type": "markdown",
   "metadata": {
    "slideshow": {
     "slide_type": "subslide"
    }
   },
   "source": [
    "* ATCGA\n",
    "* TCGAT\n",
    "* TAGCT\n",
    "* Error"
   ]
  },
  {
   "cell_type": "markdown",
   "metadata": {
    "slideshow": {
     "slide_type": "subslide"
    }
   },
   "source": [
    "TODO: Add more questions."
   ]
  },
  {
   "cell_type": "markdown",
   "metadata": {
    "slideshow": {
     "slide_type": "slide"
    }
   },
   "source": [
    "# A larger example"
   ]
  },
  {
   "cell_type": "markdown",
   "metadata": {
    "slideshow": {
     "slide_type": "fragment"
    }
   },
   "source": [
    "We've all written scripts where we start at the beginning and go line by line until we're done.\n",
    "\n",
    "**WARNING:** The following code focuses on simplicity and shouldn't be used in practice."
   ]
  },
  {
   "cell_type": "code",
   "execution_count": null,
   "metadata": {
    "collapsed": true,
    "slideshow": {
     "slide_type": "slide"
    }
   },
   "outputs": [],
   "source": [
    "def main(h_fasta, m_fasta, h_out, m_out):\n",
    "    with open(h_fasta) as h_fasta, open(m_fasta) as m_fasta:\n",
    "        h_fasta = h_fasta.readlines() \n",
    "        m_fasta = m_fasta.readlines()\n",
    "    \n",
    "    h_names = []\n",
    "    for line in h_fasta:\n",
    "        if line[0] == \">\":\n",
    "            line_ls = line.split(\"|\")\n",
    "            name = line_ls[4]\n",
    "            h_names.append(name)\n",
    "            \n",
    "    m_names = [] \n",
    "    for line in m_fasta: \n",
    "        if line[0] == \">\": \n",
    "            line_ls = line.split(\"|\") \n",
    "            name = line_ls[4] \n",
    "            m_names.append(name) \n",
    "\n",
    "    m_names_upper = [] \n",
    "    for name in m_names: \n",
    "        m_names_upper.append(name.upper())\n",
    "        \n",
    "    h_overlap = []\n",
    "    m_overlap = []\n",
    "\n",
    "    for name in m_names_upper:\n",
    "        if name in h_names:\n",
    "            m_pos = m_names_upper.index(name)\n",
    "            m_orig_name = m_names[m_pos]\n",
    "            m_overlap.append(m_orig_name)\n",
    "            h_overlap.append(name)\n",
    "            \n",
    "    with open(h_out, \"w\") as h_out, open(m_out, \"w\") as m_out:\n",
    "        \n",
    "        for name in h_overlap:\n",
    "            for i, line in enumerate(h_fasta):\n",
    "                if name in line:\n",
    "                    h_out.write(line)\n",
    "                    h_out.write(h_fasta[i+1])\n",
    "                    break\n",
    "                \n",
    "        for name in m_overlap:\n",
    "            for i, line in enumerate(m_fasta):\n",
    "                if name in line:\n",
    "                    m_out.write(line)\n",
    "                    m_out.write(m_fasta[i+1])\n",
    "                    break\n",
    "main('h_fasta.txt', 'm_fasta.txt', 'h_out.txt', 'm_out.txt')"
   ]
  },
  {
   "cell_type": "markdown",
   "metadata": {
    "slideshow": {
     "slide_type": "slide"
    }
   },
   "source": [
    "## That function works."
   ]
  },
  {
   "cell_type": "markdown",
   "metadata": {
    "slideshow": {
     "slide_type": "fragment"
    }
   },
   "source": [
    "* What does it do? \n",
    "* Why is there so much repetitiveness?"
   ]
  },
  {
   "cell_type": "markdown",
   "metadata": {
    "slideshow": {
     "slide_type": "fragment"
    }
   },
   "source": [
    "Add a bit of documentation in the form of well-named functions and **docstrings**."
   ]
  },
  {
   "cell_type": "code",
   "execution_count": null,
   "metadata": {
    "collapsed": true,
    "slideshow": {
     "slide_type": "slide"
    }
   },
   "outputs": [],
   "source": [
    "def fasta_name_overlap(h_fasta, m_fasta, h_out, m_out):\n",
    "    \"\"\"Writes sequences with corresponding common names to new fasta files.\"\"\"\n",
    "    with open(h_fasta) as h_fasta, open(m_fasta) as m_fasta:\n",
    "        h_fasta = h_fasta.readlines() \n",
    "        m_fasta = m_fasta.readlines()\n",
    "    \n",
    "    h_names = []\n",
    "    for line in h_fasta:\n",
    "        if line[0] == \">\":\n",
    "            line_ls = line.split(\"|\")\n",
    "            name = line_ls[4]\n",
    "            h_names.append(name)\n",
    "            \n",
    "    m_names = [] \n",
    "    for line in m_fasta: \n",
    "        if line[0] == \">\": \n",
    "            line_ls = line.split(\"|\") \n",
    "            name = line_ls[4] \n",
    "            m_names.append(name) \n",
    "\n",
    "    m_names_upper = [] \n",
    "    for name in m_names: \n",
    "        m_names_upper.append(name.upper())\n",
    "        \n",
    "    h_overlap = []\n",
    "    m_overlap = []\n",
    "\n",
    "    for name in m_names_upper:\n",
    "        if name in h_names:\n",
    "            m_pos = m_names_upper.index(name)\n",
    "            m_orig_name = m_names[m_pos]\n",
    "            m_overlap.append(m_orig_name)\n",
    "            h_overlap.append(name)\n",
    "            \n",
    "    with open(h_out, \"w\") as h_out, open(m_out, \"w\") as m_out:\n",
    "        \n",
    "        for name in h_overlap:\n",
    "            for i, line in enumerate(h_fasta):\n",
    "                if name in line:\n",
    "                    h_out.write(line)\n",
    "                    h_out.write(h_fasta[i+1])\n",
    "                    break\n",
    "                \n",
    "        for name in m_overlap:\n",
    "            for i, line in enumerate(m_fasta):\n",
    "                if name in line:\n",
    "                    m_out.write(line)\n",
    "                    m_out.write(m_fasta[i+1])\n",
    "                    break\n",
    "fasta_name_overlap('h_fasta.txt', 'm_fasta.txt', 'h_out.txt', 'm_out.txt')"
   ]
  },
  {
   "cell_type": "markdown",
   "metadata": {
    "slideshow": {
     "slide_type": "slide"
    }
   },
   "source": [
    "At least now we can have some idea what's going on.\n",
    "\n",
    "Now we need to get rid of the repeating blocks of code.\n",
    "\n",
    "We can do that by creating a couple more nicely documented functions. "
   ]
  },
  {
   "cell_type": "code",
   "execution_count": null,
   "metadata": {
    "collapsed": true,
    "slideshow": {
     "slide_type": "slide"
    }
   },
   "outputs": [],
   "source": [
    "def file_to_list(file_name):\n",
    "    \"\"\"Returns a list of lines from a file.\"\"\"\n",
    "    with open(file_name) as infile:\n",
    "        contents = infile.readlines()\n",
    "    return contents\n",
    "\n",
    "def find_names(fasta, upper=False):\n",
    "    \"\"\"Finds the common name of gene from a gencode formatted fasta.\"\"\"\n",
    "    names = []\n",
    "    for line in fasta:\n",
    "        if line[0] == '>':\n",
    "            lines_ls = line.split('|')\n",
    "            name = line_ls[4]\n",
    "            names.append(name)\n",
    "    if upper:\n",
    "        upper_names = [n.upper() for n in names]\n",
    "        return names, upper_names\n",
    "    else:\n",
    "        return names\n",
    "    \n",
    "def fasta_name_overlap(h_fasta, m_fasta, h_out, m_out):\n",
    "    \"\"\"Writes sequences with corresponding common names to new fasta files.\"\"\"\n",
    "    h_fasta = file_to_list(h_fasta)\n",
    "    m_fasta = file_to_list(m_fasta)\n",
    "    \n",
    "    h_names = find_names(h_fasta)\n",
    "    m_names, m_upper = find_names(m_fasta, True)\n",
    "        \n",
    "    h_overlap = []\n",
    "    m_overlap = []\n",
    "\n",
    "    for name in m_names_upper:\n",
    "        if name in h_names:\n",
    "            m_pos = m_names_upper.index(name)\n",
    "            m_orig_name = m_names[m_pos]\n",
    "            m_overlap.append(m_orig_name)\n",
    "            h_overlap.append(name)\n",
    "            \n",
    "    with open(h_out, \"w\") as h_out, open(m_out, \"w\") as m_out:\n",
    "        \n",
    "        for name in h_overlap:\n",
    "            for i, line in enumerate(h_fasta):\n",
    "                if name in line:\n",
    "                    h_out.write(line)\n",
    "                    h_out.write(h_fasta[i+1])\n",
    "                    break\n",
    "                \n",
    "        for name in m_overlap:\n",
    "            for i, line in enumerate(m_fasta):\n",
    "                if name in line:\n",
    "                    m_out.write(line)\n",
    "                    m_out.write(m_fasta[i+1])\n",
    "                    break\n",
    "fasta_name_overlap('h_fasta.txt', 'm_fasta.txt', 'h_out.txt', 'm_out.txt')"
   ]
  },
  {
   "cell_type": "markdown",
   "metadata": {
    "slideshow": {
     "slide_type": "slide"
    }
   },
   "source": [
    "# Our line count is the same..."
   ]
  },
  {
   "cell_type": "markdown",
   "metadata": {
    "slideshow": {
     "slide_type": "fragment"
    }
   },
   "source": [
    "But that's not the point.\n",
    "\n",
    "The purpose here is to increase understanding of what this code is doing."
   ]
  },
  {
   "cell_type": "markdown",
   "metadata": {
    "slideshow": {
     "slide_type": "fragment"
    }
   },
   "source": [
    "Let's keep going."
   ]
  },
  {
   "cell_type": "code",
   "execution_count": null,
   "metadata": {
    "collapsed": true,
    "slideshow": {
     "slide_type": "slide"
    }
   },
   "outputs": [],
   "source": [
    "def file_to_list(file_name):\n",
    "    \"\"\"Returns a list of lines from a file.\"\"\"\n",
    "    with open(file_name) as infile:\n",
    "        contents = infile.readlines()\n",
    "    return contents\n",
    "\n",
    "def find_names(fasta, upper=False):\n",
    "    \"\"\"Finds the common name of gene from a gencode formatted fasta.\"\"\"\n",
    "    names = []\n",
    "    for line in fasta:\n",
    "        if line[0] == '>':\n",
    "            lines_ls = line.split('|')\n",
    "            name = line_ls[4]\n",
    "            names.append(name)\n",
    "    if upper:\n",
    "        upper_names = [n.upper() for n in names]\n",
    "        return names, upper_names\n",
    "    else:\n",
    "        return names\n",
    "\n",
    "def get_overlap(h_names, m_names, m_upper):\n",
    "    \"\"\"Returns original names found in both fasta files.\"\"\"\n",
    "    h_overlap = []\n",
    "    m_overlap = []\n",
    "    for name in m_upper:\n",
    "        if name in h_names:\n",
    "            m_pos = m_upper.index(name)\n",
    "            m_orig_name = m_names[m_pos]\n",
    "            m_overlap.append(m_orig_name)\n",
    "            h_overlap.append(name) \n",
    "    return h_overlap, m_overlap\n",
    "\n",
    "def filter_fasta(out, overlap, fasta):\n",
    "    \"\"\"Filters original fasta files based on overlapping names.\"\"\"\n",
    "    with open(out, 'w') as outfile:\n",
    "        for name in overlap:\n",
    "            for i, line in enumerate(fasta):\n",
    "                if name in line:\n",
    "                    out.write(line)\n",
    "                    out.write(fasta[i+1])\n",
    "                    break\n",
    "                    \n",
    "def fasta_name_overlap(h_fasta, m_fasta, h_out, m_out):\n",
    "    \"\"\"Writes sequences with corresponding common names to new fasta files.\"\"\"\n",
    "    h_fasta = file_to_list(h_fasta)\n",
    "    m_fasta = file_to_list(m_fasta)\n",
    "    \n",
    "    h_names = find_names(h_fasta)\n",
    "    m_names, m_upper = find_names(m_fasta, True)\n",
    "    \n",
    "    h_overlap, m_overlap = get_overlap(h_names, m_names, m_upper)\n",
    "    \n",
    "    filter_fasta(h_out, h_overlap, h_fasta)\n",
    "    filter_fasta(h_out, h_overlap, h_fasta)\n",
    "\n",
    "fasta_name_overlap('h_fasta.txt', 'm_fasta.txt', 'h_out.txt', 'm_out.txt')"
   ]
  },
  {
   "cell_type": "markdown",
   "metadata": {
    "slideshow": {
     "slide_type": "slide"
    }
   },
   "source": [
    "# What does this code do?"
   ]
  },
  {
   "cell_type": "markdown",
   "metadata": {
    "slideshow": {
     "slide_type": "fragment"
    }
   },
   "source": [
    "Read the main function."
   ]
  },
  {
   "cell_type": "markdown",
   "metadata": {
    "slideshow": {
     "slide_type": "fragment"
    }
   },
   "source": [
    "* Convert files to lists\n",
    "* Find fasta names\n",
    "* Get overlapping names\n",
    "* Filter fasta files"
   ]
  },
  {
   "cell_type": "markdown",
   "metadata": {
    "slideshow": {
     "slide_type": "fragment"
    }
   },
   "source": [
    "The main function now serves two purposes.\n",
    "\n",
    "1. Execute all the smaller functions\n",
    "2. Explains what the code does to users (including your future self)."
   ]
  }
 ],
 "metadata": {
  "celltoolbar": "Slideshow",
  "kernelspec": {
   "display_name": "Python 3",
   "language": "python",
   "name": "python3"
  },
  "language_info": {
   "codemirror_mode": {
    "name": "ipython",
    "version": 3
   },
   "file_extension": ".py",
   "mimetype": "text/x-python",
   "name": "python",
   "nbconvert_exporter": "python",
   "pygments_lexer": "ipython3",
   "version": "3.5.2"
  },
  "nav_menu": {},
  "toc": {
   "navigate_menu": true,
   "number_sections": true,
   "sideBar": true,
   "threshold": 6,
   "toc_cell": true,
   "toc_section_display": "block",
   "toc_window_display": false
  }
 },
 "nbformat": 4,
 "nbformat_minor": 0
}
